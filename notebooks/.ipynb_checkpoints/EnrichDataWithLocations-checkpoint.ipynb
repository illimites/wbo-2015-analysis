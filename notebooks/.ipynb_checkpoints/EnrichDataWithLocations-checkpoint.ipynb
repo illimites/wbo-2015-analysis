{
 "cells": [
  {
   "cell_type": "code",
   "execution_count": 1,
   "metadata": {
    "collapsed": true
   },
   "outputs": [],
   "source": [
    "import pandas as pd"
   ]
  },
  {
   "cell_type": "code",
   "execution_count": 2,
   "metadata": {
    "collapsed": false
   },
   "outputs": [],
   "source": [
    "dane = pd.read_csv(\"../data/raw/votes/OtwartyWroclaw_Urzad_WBO_glosy.2015.csv\", sep=';', encoding = \"cp1250\")"
   ]
  },
  {
   "cell_type": "code",
   "execution_count": 3,
   "metadata": {
    "collapsed": true
   },
   "outputs": [],
   "source": [
    "records = dane.to_records()"
   ]
  },
  {
   "cell_type": "code",
   "execution_count": 4,
   "metadata": {
    "collapsed": false
   },
   "outputs": [
    {
     "data": {
      "text/plain": [
       "(0, 1, u'8:03:16, 28-09-2015', 26, u'M', nan, u'53-238', u'I', 23, 139, 478)"
      ]
     },
     "execution_count": 4,
     "metadata": {},
     "output_type": "execute_result"
    }
   ],
   "source": [
    "records[0]"
   ]
  },
  {
   "cell_type": "code",
   "execution_count": 4,
   "metadata": {
    "collapsed": true
   },
   "outputs": [],
   "source": [
    "all_projects = list()\n",
    "for i in [-1,-2,-3]:\n",
    "    all_projects += map(lambda x: x[i], filter (lambda x: x[i] > 0 , records))\n",
    "all_projects = set(all_projects)"
   ]
  },
  {
   "cell_type": "code",
   "execution_count": 5,
   "metadata": {
    "collapsed": false
   },
   "outputs": [
    {
     "data": {
      "text/plain": [
       "545"
      ]
     },
     "execution_count": 5,
     "metadata": {},
     "output_type": "execute_result"
    }
   ],
   "source": [
    "len(all_projects)"
   ]
  },
  {
   "cell_type": "code",
   "execution_count": 12,
   "metadata": {
    "collapsed": false
   },
   "outputs": [],
   "source": [
    "projects = { k : { j: 0 for j in set(all_projects) } for k in set(all_projects) }"
   ]
  },
  {
   "cell_type": "code",
   "execution_count": 14,
   "metadata": {
    "collapsed": false
   },
   "outputs": [],
   "source": [
    "for vote in records:\n",
    "    for i in [-1,-2,-3]:\n",
    "        for j in [-1, -2, -3]:\n",
    "            if j > i and vote[i] > 0 and vote[j] > 0:\n",
    "                p_1 = vote[i]\n",
    "                p_2 = vote[j]\n",
    "                projects[p_1][p_2] += 1\n",
    "                projects[p_2][p_1] += 1"
   ]
  },
  {
   "cell_type": "code",
   "execution_count": 17,
   "metadata": {
    "collapsed": false
   },
   "outputs": [],
   "source": [
    "import jsonpickle"
   ]
  },
  {
   "cell_type": "code",
   "execution_count": 19,
   "metadata": {
    "collapsed": false
   },
   "outputs": [],
   "source": [
    "with open(\"cooccurence.json\", 'w') as fp:\n",
    "    fp.write(jsonpickle.encode(projects))"
   ]
  },
  {
   "cell_type": "code",
   "execution_count": 24,
   "metadata": {
    "collapsed": false
   },
   "outputs": [
    {
     "data": {
      "text/plain": [
       "9197"
      ]
     },
     "execution_count": 24,
     "metadata": {},
     "output_type": "execute_result"
    }
   ],
   "source": [
    "max(map(lambda x: max(x.values()), projects.values()))"
   ]
  },
  {
   "cell_type": "code",
   "execution_count": 22,
   "metadata": {
    "collapsed": false
   },
   "outputs": [],
   "source": [
    "trzy = dane.query('(Prog_1 == 0) & (Prog_3 == 0)').groupby('Prog_2').count(axis = 0)['Lp']"
   ]
  },
  {
   "cell_type": "code",
   "execution_count": 23,
   "metadata": {
    "collapsed": false
   },
   "outputs": [],
   "source": [
    "trzy = trzy.sort(inplace = False, ascending=0)"
   ]
  },
  {
   "cell_type": "code",
   "execution_count": 24,
   "metadata": {
    "collapsed": true
   },
   "outputs": [],
   "source": [
    "trzy.to_csv(\"pozostale_puste_prog_2.csv\")"
   ]
  },
  {
   "cell_type": "code",
   "execution_count": 33,
   "metadata": {
    "collapsed": true
   },
   "outputs": [],
   "source": [
    "lista1 = [376,\n",
    "674,\n",
    "62,\n",
    "494,\n",
    "398,\n",
    "459,\n",
    "425,\n",
    "785,\n",
    "428,\n",
    "27,\n",
    "614]"
   ]
  },
  {
   "cell_type": "code",
   "execution_count": 15,
   "metadata": {
    "collapsed": true
   },
   "outputs": [],
   "source": [
    "lista2 = [362,\n",
    "803,\n",
    "618,\n",
    "364,\n",
    "32,\n",
    "560,\n",
    "661,\n",
    "508,\n",
    "17,\n",
    "102,\n",
    "706,\n",
    "476,\n",
    "80]"
   ]
  },
  {
   "cell_type": "code",
   "execution_count": 25,
   "metadata": {
    "collapsed": true
   },
   "outputs": [],
   "source": [
    "lista3 = [\n",
    "478,\n",
    "39,\n",
    "487,\n",
    "45,\n",
    "136,\n",
    "573,\n",
    "257,\n",
    "339,\n",
    "53,\n",
    "1,\n",
    "243,\n",
    "144,\n",
    "328,\n",
    "]"
   ]
  },
  {
   "cell_type": "code",
   "execution_count": 27,
   "metadata": {
    "collapsed": false
   },
   "outputs": [
    {
     "data": {
      "text/plain": [
       "Prog_3\n",
       "1       6607\n",
       "39      1227\n",
       "45      2734\n",
       "53      3857\n",
       "136    10608\n",
       "144     1146\n",
       "243     2344\n",
       "257      415\n",
       "328      691\n",
       "339      562\n",
       "478     3676\n",
       "487     9953\n",
       "573      259\n",
       "Name: Lp, dtype: int64"
      ]
     },
     "execution_count": 27,
     "metadata": {},
     "output_type": "execute_result"
    }
   ],
   "source": [
    "dane[dane.apply(lambda x: x['Prog_3'] in lista3, axis=1)].query('(Prog_1 > 0) | (Prog_2 > 0)').groupby('Prog_3').count(axis = 0)['Lp']"
   ]
  },
  {
   "cell_type": "code",
   "execution_count": 32,
   "metadata": {
    "collapsed": false
   },
   "outputs": [
    {
     "data": {
      "text/plain": [
       "{'count': {u'I': 30577, u'P': 17273}}"
      ]
     },
     "execution_count": 32,
     "metadata": {},
     "output_type": "execute_result"
    }
   ],
   "source": [
    "dane.query('((Prog_1 == 0) & (Prog_3 == 0)) | ((Prog_2 == 0) & (Prog_1 == 0)) | ((Prog_2 == 0) & (Prog_3 == 0))').groupby(['Zrodlo']).agg(['count'])['Lp'].to_dict()"
   ]
  },
  {
   "cell_type": "code",
   "execution_count": 35,
   "metadata": {
    "collapsed": false
   },
   "outputs": [],
   "source": [
    "szkolne = [362, 803, 618, 364, 661, 508, 376, 62, 785, 478, 487, 136, 573, 328]\n",
    "nieszkolne = [i for i in lista1+lista2+lista3 if i not in szkolne]"
   ]
  },
  {
   "cell_type": "code",
   "execution_count": 43,
   "metadata": {
    "collapsed": false
   },
   "outputs": [],
   "source": [
    "dane[dane.apply(lambda x: x['Prog_3'] in szkolne or x['Prog_2'] in szkolne or x['Prog_1'] in szkolne, axis=1)].query('((Prog_1 == 0) & (Prog_3 == 0)) | ((Prog_2 == 0) & (Prog_1 == 0)) | ((Prog_2 == 0) & (Prog_3 == 0))').groupby(['Wiek']).agg(['count'])['Lp'].to_csv(\"szkolne.csv\")"
   ]
  },
  {
   "cell_type": "code",
   "execution_count": 42,
   "metadata": {
    "collapsed": false
   },
   "outputs": [],
   "source": [
    "dane[dane.apply(lambda x: x['Prog_3'] in nieszkolne or x['Prog_2'] in nieszkolne or x['Prog_1'] in nieszkolne, axis=1)].query('((Prog_1 == 0) & (Prog_3 == 0)) | ((Prog_2 == 0) & (Prog_1 == 0)) | ((Prog_2 == 0) & (Prog_3 == 0))').groupby(['Wiek']).agg(['count'])['Lp'].to_csv(\"nieszkolne.csv\")"
   ]
  },
  {
   "cell_type": "code",
   "execution_count": 6,
   "metadata": {
    "collapsed": true
   },
   "outputs": [],
   "source": [
    "szkolne = [362, 803, 618, 364, 661, 508, 376, 62, 785, 478, 487, 136, 573, 328]\n"
   ]
  },
  {
   "cell_type": "code",
   "execution_count": 7,
   "metadata": {
    "collapsed": false
   },
   "outputs": [
    {
     "data": {
      "text/plain": [
       "14"
      ]
     },
     "execution_count": 7,
     "metadata": {},
     "output_type": "execute_result"
    }
   ],
   "source": [
    "len(szkolne)"
   ]
  },
  {
   "cell_type": "code",
   "execution_count": null,
   "metadata": {
    "collapsed": true
   },
   "outputs": [],
   "source": []
  }
 ],
 "metadata": {
  "kernelspec": {
   "display_name": "Python 2",
   "language": "python",
   "name": "python2"
  },
  "language_info": {
   "codemirror_mode": {
    "name": "ipython",
    "version": 2
   },
   "file_extension": ".py",
   "mimetype": "text/x-python",
   "name": "python",
   "nbconvert_exporter": "python",
   "pygments_lexer": "ipython2",
   "version": "2.7.8"
  }
 },
 "nbformat": 4,
 "nbformat_minor": 0
}
