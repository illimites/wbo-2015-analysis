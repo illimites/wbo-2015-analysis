{
 "cells": [
  {
   "cell_type": "code",
   "execution_count": 23,
   "metadata": {
    "collapsed": true
   },
   "outputs": [],
   "source": [
    "import pandas as pd\n",
    "import math"
   ]
  },
  {
   "cell_type": "code",
   "execution_count": 2,
   "metadata": {
    "collapsed": false
   },
   "outputs": [],
   "source": [
    "dane = pd.read_csv(\"../data/raw/votes/OtwartyWroclaw_Urzad_WBO_glosy.2015.csv\", sep=';', encoding = \"cp1250\")"
   ]
  },
  {
   "cell_type": "code",
   "execution_count": 65,
   "metadata": {
    "collapsed": false
   },
   "outputs": [],
   "source": [
    "kody = pd.read_csv(\"../data/raw/kodypocztowe/kody.csv\", sep=';', encoding = \"utf8\")"
   ]
  },
  {
   "cell_type": "code",
   "execution_count": 34,
   "metadata": {
    "collapsed": false
   },
   "outputs": [],
   "source": [
    "unikatowe_kody = map(lambda x: x.replace('-',''), set(kody['KOD POCZTOWY']))"
   ]
  },
  {
   "cell_type": "code",
   "execution_count": 8,
   "metadata": {
    "collapsed": false
   },
   "outputs": [],
   "source": [
    "records = dane.to_records()"
   ]
  },
  {
   "cell_type": "code",
   "execution_count": 36,
   "metadata": {
    "collapsed": false
   },
   "outputs": [],
   "source": [
    "records_with_postcodes = filter(lambda x: x[-5] is not None and not (isinstance(x[-5], float) and math.isnan(x[-5])), records)"
   ]
  },
  {
   "cell_type": "code",
   "execution_count": 37,
   "metadata": {
    "collapsed": false
   },
   "outputs": [],
   "source": [
    "kody_not_found = map(lambda x: x[-5].replace('-','') , filter(lambda x: x[-5].replace('-','') not in unikatowe_kody, records_with_postcodes))"
   ]
  },
  {
   "cell_type": "code",
   "execution_count": 83,
   "metadata": {
    "collapsed": false
   },
   "outputs": [],
   "source": [
    "kody_found = filter(lambda x: x[-5].replace('-','') in unikatowe_kody, records_with_postcodes)"
   ]
  },
  {
   "cell_type": "code",
   "execution_count": 117,
   "metadata": {
    "collapsed": false
   },
   "outputs": [],
   "source": [
    "cities = { k[1]['KOD POCZTOWY'].replace('-','') : [k[1][u'MIEJSCOWOŚĆ'], k[1][u'WOJEWÓDZTWO'].replace(u'Województwo ','')] for k in kody.iterrows()}"
   ]
  },
  {
   "cell_type": "code",
   "execution_count": 100,
   "metadata": {
    "collapsed": false
   },
   "outputs": [],
   "source": [
    "dane['Miasto'] = pd.Series( map(lambda x: cities[x[-5].replace('-','')][0], kody_found), index = map(lambda x: x[0], kody_found))"
   ]
  },
  {
   "cell_type": "code",
   "execution_count": 118,
   "metadata": {
    "collapsed": false
   },
   "outputs": [],
   "source": [
    "dane['Wojewodztwo'] = pd.Series( map(lambda x: cities[x[-5].replace('-','')][1], kody_found), index = map(lambda x: x[0], kody_found))"
   ]
  },
  {
   "cell_type": "code",
   "execution_count": 119,
   "metadata": {
    "collapsed": false
   },
   "outputs": [],
   "source": [
    "dane.to_csv(\"/home/niedakh/illimites/wbo/wbo-2015-analysis/data/processed/votes_with_city_wojewodztwo.csv\", sep=';', encoding = \"utf8\",index=False)"
   ]
  },
  {
   "cell_type": "code",
   "execution_count": null,
   "metadata": {
    "collapsed": true
   },
   "outputs": [],
   "source": []
  }
 ],
 "metadata": {
  "kernelspec": {
   "display_name": "Python 2",
   "language": "python",
   "name": "python2"
  },
  "language_info": {
   "codemirror_mode": {
    "name": "ipython",
    "version": 2
   },
   "file_extension": ".py",
   "mimetype": "text/x-python",
   "name": "python",
   "nbconvert_exporter": "python",
   "pygments_lexer": "ipython2",
   "version": "2.7.8"
  }
 },
 "nbformat": 4,
 "nbformat_minor": 0
}
