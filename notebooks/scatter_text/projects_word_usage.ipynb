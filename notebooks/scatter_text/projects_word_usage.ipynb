{
 "cells": [
  {
   "cell_type": "code",
   "execution_count": 60,
   "metadata": {},
   "outputs": [
    {
     "name": "stdout",
     "output_type": "stream",
     "text": [
      "The autoreload extension is already loaded. To reload it, use:\n",
      "  %reload_ext autoreload\n"
     ]
    }
   ],
   "source": [
    "%load_ext autoreload\n",
    "%autoreload 2\n",
    "\n",
    "from os.path import basename\n",
    "from pprint import pprint\n",
    "from glob import glob\n",
    "\n",
    "import pandas as pd\n",
    "import numpy as np\n",
    "import matplotlib.pyplot as plt\n",
    "import seaborn as sns\n",
    "sns.set(color_codes=True)\n",
    "\n",
    "import spacy\n",
    "import re\n",
    "import textacy\n",
    "import gensim\n",
    "\n",
    "from tqdm import tqdm_notebook as tqdm\n",
    "\n",
    "from wordcloud import WordCloud\n",
    "\n",
    "import scattertext as st\n",
    "import json\n",
    "\n",
    "%matplotlib inline"
   ]
  },
  {
   "cell_type": "code",
   "execution_count": 63,
   "metadata": {
    "collapsed": true
   },
   "outputs": [],
   "source": [
    "nlp = spacy.en.English()"
   ]
  },
  {
   "cell_type": "markdown",
   "metadata": {},
   "source": [
    "# Load datasets "
   ]
  },
  {
   "cell_type": "code",
   "execution_count": 116,
   "metadata": {
    "collapsed": true
   },
   "outputs": [],
   "source": [
    "project_files = glob('../../data/projects-2014-2017/*.json')"
   ]
  },
  {
   "cell_type": "code",
   "execution_count": 117,
   "metadata": {},
   "outputs": [
    {
     "data": {
      "text/plain": [
       "['../../data/projects-2014-2017/2016-12-03-projects-wbo2014-lemmatized.json',\n",
       " '../../data/projects-2014-2017/2016-12-03-projects-wbo2015-lemmatized.json',\n",
       " '../../data/projects-2014-2017/2017-08-30-projects-wbo2017-lemmatized.json',\n",
       " '../../data/projects-2014-2017/2016-12-03-projects-wbo2016-lemmatized.json']"
      ]
     },
     "execution_count": 117,
     "metadata": {},
     "output_type": "execute_result"
    }
   ],
   "source": [
    "project_files"
   ]
  },
  {
   "cell_type": "code",
   "execution_count": 118,
   "metadata": {},
   "outputs": [
    {
     "data": {
      "application/vnd.jupyter.widget-view+json": {
       "model_id": "8bf3af5b7cd0479ebe90cdef3d20a9a7"
      }
     },
     "metadata": {},
     "output_type": "display_data"
    },
    {
     "name": "stdout",
     "output_type": "stream",
     "text": [
      "2014\n",
      "2015\n",
      "2017\n",
      "2016\n"
     ]
    }
   ],
   "source": [
    "prjs = []\n",
    "for project_file in tqdm(project_files):\n",
    "    year = basename(project_file).split('-')[4][3:]\n",
    "    print(year)\n",
    "    with open(project_file, 'r') as fo:\n",
    "        df = pd.DataFrame.from_dict(json.load(fo), orient='index')\n",
    "        df['Year'] = int(year)\n",
    "    prjs.append(df)\n",
    "    \n",
    "df_projects = pd.concat(prjs)"
   ]
  },
  {
   "cell_type": "code",
   "execution_count": 119,
   "metadata": {
    "collapsed": true
   },
   "outputs": [],
   "source": [
    "df = pd.DataFrame.from_dict(projects, orient='index')"
   ]
  },
  {
   "cell_type": "code",
   "execution_count": 120,
   "metadata": {},
   "outputs": [
    {
     "data": {
      "text/plain": [
       "<matplotlib.axes._subplots.AxesSubplot at 0x7f958ce22358>"
      ]
     },
     "execution_count": 120,
     "metadata": {},
     "output_type": "execute_result"
    },
    {
     "data": {
      "image/png": "[encoded data removed]",
      "text/plain": [
       "<matplotlib.figure.Figure at 0x7f958ce54e80>"
      ]
     },
     "metadata": {},
     "output_type": "display_data"
    }
   ],
   "source": [
    "df_projects.Year.hist()"
   ]
  },
  {
   "cell_type": "code",
   "execution_count": 121,
   "metadata": {},
   "outputs": [
    {
     "data": {
      "text/html": [
       "<div>\n",
       "<table border=\"1\" class=\"dataframe\">\n",
       "  <thead>\n",
       "    <tr style=\"text-align: right;\">\n",
       "      <th></th>\n",
       "      <th>Year</th>\n",
       "      <th>attachments</th>\n",
       "      <th>budget</th>\n",
       "      <th>budget_integer</th>\n",
       "      <th>category</th>\n",
       "      <th>comments</th>\n",
       "      <th>description</th>\n",
       "      <th>description-lemmatized</th>\n",
       "      <th>detailed_localization</th>\n",
       "      <th>detailed_location</th>\n",
       "      <th>...</th>\n",
       "      <th>points</th>\n",
       "      <th>positions</th>\n",
       "      <th>region</th>\n",
       "      <th>region_no</th>\n",
       "      <th>status</th>\n",
       "      <th>threshold</th>\n",
       "      <th>title</th>\n",
       "      <th>title-lemmatized</th>\n",
       "      <th>url</th>\n",
       "      <th>votes</th>\n",
       "    </tr>\n",
       "  </thead>\n",
       "  <tbody>\n",
       "    <tr>\n",
       "      <th>438</th>\n",
       "      <td>2017</td>\n",
       "      <td>NaN</td>\n",
       "      <td>500 000 zł</td>\n",
       "      <td>500000.0</td>\n",
       "      <td>komunikacja zbiorowa</td>\n",
       "      <td>NaN</td>\n",
       "      <td>Przystosowanie torowiska tramwajowego to porus...</td>\n",
       "      <td>[przystosować, torowisko, tramwajowy, to, poru...</td>\n",
       "      <td>NaN</td>\n",
       "      <td>brak.</td>\n",
       "      <td>...</td>\n",
       "      <td>NaN</td>\n",
       "      <td>[[17.0587420463562, 51.12976106226297], [17.05...</td>\n",
       "      <td>projekt ogólnomiejski</td>\n",
       "      <td>ogólnomiejski</td>\n",
       "      <td>NaN</td>\n",
       "      <td>do 1 000 000 zł</td>\n",
       "      <td>Tram-Buspas na Mostach Warszawskich</td>\n",
       "      <td>[trama, -, buspas, na, most, warszawski]</td>\n",
       "      <td>https://www.wroclaw.pl/budzet-obywatelski-wroc...</td>\n",
       "      <td>NaN</td>\n",
       "    </tr>\n",
       "    <tr>\n",
       "      <th>624</th>\n",
       "      <td>2015</td>\n",
       "      <td>[[http://www.wroclaw.pl/budzet-obywatelski-wro...</td>\n",
       "      <td>100000</td>\n",
       "      <td>NaN</td>\n",
       "      <td>place zabaw</td>\n",
       "      <td>[[Komentarz UMW po II etapie weryfikacji:, Pro...</td>\n",
       "      <td>Poniższy projekt zgłaszany jest w imieniu Rady...</td>\n",
       "      <td>[poniå¼szy, projekt, zgåaszany, być, w, imien...</td>\n",
       "      <td>1. Wrocław Park Langiewicza -Grabiszyn AR_17,20</td>\n",
       "      <td>NaN</td>\n",
       "      <td>...</td>\n",
       "      <td>[{'longitude': 17.00605568227843, 'latitude': ...</td>\n",
       "      <td>NaN</td>\n",
       "      <td>NaN</td>\n",
       "      <td>NaN</td>\n",
       "      <td>Nie wybrany w głosowaniu</td>\n",
       "      <td>NaN</td>\n",
       "      <td>Raz, dwa, trzy. Huśtam się ja, huśtasz się TY....</td>\n",
       "      <td>[raz, ,, dwa, ,, trzy, ., huåtam, siä, ja, ,...</td>\n",
       "      <td>NaN</td>\n",
       "      <td>218.0</td>\n",
       "    </tr>\n",
       "    <tr>\n",
       "      <th>442</th>\n",
       "      <td>2015</td>\n",
       "      <td>[[http://www.wroclaw.pl/budzet-obywatelski-wro...</td>\n",
       "      <td>2000000</td>\n",
       "      <td>NaN</td>\n",
       "      <td>rewitalizacja</td>\n",
       "      <td>[[Komentarz UMW po II etapie weryfikacji:, Pro...</td>\n",
       "      <td>Cel:\\r\\nCelem przedstawionego projektu jest st...</td>\n",
       "      <td>[cel, :, cel, przedstawić, projekt, być, stwor...</td>\n",
       "      <td>Okolice stadionu MOSiR ul. Lotnicza, pomiędzy ...</td>\n",
       "      <td>NaN</td>\n",
       "      <td>...</td>\n",
       "      <td>[{'longitude': 16.95672241268926, 'latitude': ...</td>\n",
       "      <td>NaN</td>\n",
       "      <td>NaN</td>\n",
       "      <td>NaN</td>\n",
       "      <td>Nie wybrany w głosowaniu</td>\n",
       "      <td>NaN</td>\n",
       "      <td>Budowa strefy sportów miejskich  pomiędzy ul. ...</td>\n",
       "      <td>[budowa, strefa, sportã³w, miejski, pomiädzy,...</td>\n",
       "      <td>NaN</td>\n",
       "      <td>853.0</td>\n",
       "    </tr>\n",
       "    <tr>\n",
       "      <th>58</th>\n",
       "      <td>2017</td>\n",
       "      <td>NaN</td>\n",
       "      <td>1 000 000 zł</td>\n",
       "      <td>1000000.0</td>\n",
       "      <td>piesze/rowerowe</td>\n",
       "      <td>NaN</td>\n",
       "      <td>Po ostatniej zmianie organizacji ruchu w tym r...</td>\n",
       "      <td>[po, ostatni, zmiana, organizacja, Ruch, ruch,...</td>\n",
       "      <td>NaN</td>\n",
       "      <td>Ul. Racławicka, rondo Racławicka / Gajowicka</td>\n",
       "      <td>...</td>\n",
       "      <td>NaN</td>\n",
       "      <td>[[17.00292259454727, 51.082279303260805], [17....</td>\n",
       "      <td>projekt ogólnomiejski</td>\n",
       "      <td>ogólnomiejski</td>\n",
       "      <td>NaN</td>\n",
       "      <td>do 1 000 000 zł</td>\n",
       "      <td>Przebudowa ronda na ul. Gajowickiej/Racławicki...</td>\n",
       "      <td>[przebudowa, rondo, na, ulica, ., gajowickiej,...</td>\n",
       "      <td>https://www.wroclaw.pl/budzet-obywatelski-wroc...</td>\n",
       "      <td>NaN</td>\n",
       "    </tr>\n",
       "    <tr>\n",
       "      <th>346</th>\n",
       "      <td>2015</td>\n",
       "      <td>[]</td>\n",
       "      <td>98000</td>\n",
       "      <td>NaN</td>\n",
       "      <td>edukacja</td>\n",
       "      <td>[]</td>\n",
       "      <td>Teren boiska wymaga odnowienia. Od kilkunastu ...</td>\n",
       "      <td>[teren, boisko, wymagać, odnowić, ., od, kilka...</td>\n",
       "      <td>STARE MIASTO AR_27, 23/2</td>\n",
       "      <td>NaN</td>\n",
       "      <td>...</td>\n",
       "      <td>[{'longitude': 17.041070900000022, 'latitude':...</td>\n",
       "      <td>NaN</td>\n",
       "      <td>NaN</td>\n",
       "      <td>NaN</td>\n",
       "      <td>Projekt nie bierze udziału w głosowaniu</td>\n",
       "      <td>NaN</td>\n",
       "      <td>Rewitalizacja terenu sportowego Gimnazjum nr 29</td>\n",
       "      <td>[rewitalizacja, teren, sportowy, gimnazjum, nr...</td>\n",
       "      <td>NaN</td>\n",
       "      <td>NaN</td>\n",
       "    </tr>\n",
       "  </tbody>\n",
       "</table>\n",
       "<p>5 rows × 26 columns</p>\n",
       "</div>"
      ],
      "text/plain": [
       "     Year                                        attachments        budget  \\\n",
       "438  2017                                                NaN    500 000 zł   \n",
       "624  2015  [[http://www.wroclaw.pl/budzet-obywatelski-wro...        100000   \n",
       "442  2015  [[http://www.wroclaw.pl/budzet-obywatelski-wro...       2000000   \n",
       "58   2017                                                NaN  1 000 000 zł   \n",
       "346  2015                                                 []         98000   \n",
       "\n",
       "     budget_integer              category  \\\n",
       "438        500000.0  komunikacja zbiorowa   \n",
       "624             NaN           place zabaw   \n",
       "442             NaN         rewitalizacja   \n",
       "58        1000000.0       piesze/rowerowe   \n",
       "346             NaN              edukacja   \n",
       "\n",
       "                                              comments  \\\n",
       "438                                                NaN   \n",
       "624  [[Komentarz UMW po II etapie weryfikacji:, Pro...   \n",
       "442  [[Komentarz UMW po II etapie weryfikacji:, Pro...   \n",
       "58                                                 NaN   \n",
       "346                                                 []   \n",
       "\n",
       "                                           description  \\\n",
       "438  Przystosowanie torowiska tramwajowego to porus...   \n",
       "624  Poniższy projekt zgłaszany jest w imieniu Rady...   \n",
       "442  Cel:\\r\\nCelem przedstawionego projektu jest st...   \n",
       "58   Po ostatniej zmianie organizacji ruchu w tym r...   \n",
       "346  Teren boiska wymaga odnowienia. Od kilkunastu ...   \n",
       "\n",
       "                                description-lemmatized  \\\n",
       "438  [przystosować, torowisko, tramwajowy, to, poru...   \n",
       "624  [poniå¼szy, projekt, zgåaszany, być, w, imien...   \n",
       "442  [cel, :, cel, przedstawić, projekt, być, stwor...   \n",
       "58   [po, ostatni, zmiana, organizacja, Ruch, ruch,...   \n",
       "346  [teren, boisko, wymagać, odnowić, ., od, kilka...   \n",
       "\n",
       "                                 detailed_localization  \\\n",
       "438                                                NaN   \n",
       "624    1. Wrocław Park Langiewicza -Grabiszyn AR_17,20   \n",
       "442  Okolice stadionu MOSiR ul. Lotnicza, pomiędzy ...   \n",
       "58                                                 NaN   \n",
       "346                           STARE MIASTO AR_27, 23/2   \n",
       "\n",
       "                                detailed_location  ...    \\\n",
       "438                                         brak.  ...     \n",
       "624                                           NaN  ...     \n",
       "442                                           NaN  ...     \n",
       "58   Ul. Racławicka, rondo Racławicka / Gajowicka  ...     \n",
       "346                                           NaN  ...     \n",
       "\n",
       "                                                points  \\\n",
       "438                                                NaN   \n",
       "624  [{'longitude': 17.00605568227843, 'latitude': ...   \n",
       "442  [{'longitude': 16.95672241268926, 'latitude': ...   \n",
       "58                                                 NaN   \n",
       "346  [{'longitude': 17.041070900000022, 'latitude':...   \n",
       "\n",
       "                                             positions                 region  \\\n",
       "438  [[17.0587420463562, 51.12976106226297], [17.05...  projekt ogólnomiejski   \n",
       "624                                                NaN                    NaN   \n",
       "442                                                NaN                    NaN   \n",
       "58   [[17.00292259454727, 51.082279303260805], [17....  projekt ogólnomiejski   \n",
       "346                                                NaN                    NaN   \n",
       "\n",
       "         region_no                                   status        threshold  \\\n",
       "438  ogólnomiejski                                      NaN  do 1 000 000 zł   \n",
       "624            NaN                 Nie wybrany w głosowaniu              NaN   \n",
       "442            NaN                 Nie wybrany w głosowaniu              NaN   \n",
       "58   ogólnomiejski                                      NaN  do 1 000 000 zł   \n",
       "346            NaN  Projekt nie bierze udziału w głosowaniu              NaN   \n",
       "\n",
       "                                                 title  \\\n",
       "438                Tram-Buspas na Mostach Warszawskich   \n",
       "624  Raz, dwa, trzy. Huśtam się ja, huśtasz się TY....   \n",
       "442  Budowa strefy sportów miejskich  pomiędzy ul. ...   \n",
       "58   Przebudowa ronda na ul. Gajowickiej/Racławicki...   \n",
       "346   Rewitalizacja terenu sportowego Gimnazjum nr 29    \n",
       "\n",
       "                                      title-lemmatized  \\\n",
       "438           [trama, -, buspas, na, most, warszawski]   \n",
       "624  [raz, ,, dwa, ,, trzy, ., huåtam, siä, ja, ,...   \n",
       "442  [budowa, strefa, sportã³w, miejski, pomiädzy,...   \n",
       "58   [przebudowa, rondo, na, ulica, ., gajowickiej,...   \n",
       "346  [rewitalizacja, teren, sportowy, gimnazjum, nr...   \n",
       "\n",
       "                                                   url  votes  \n",
       "438  https://www.wroclaw.pl/budzet-obywatelski-wroc...    NaN  \n",
       "624                                                NaN  218.0  \n",
       "442                                                NaN  853.0  \n",
       "58   https://www.wroclaw.pl/budzet-obywatelski-wroc...    NaN  \n",
       "346                                                NaN    NaN  \n",
       "\n",
       "[5 rows x 26 columns]"
      ]
     },
     "execution_count": 121,
     "metadata": {},
     "output_type": "execute_result"
    }
   ],
   "source": [
    "df_projects.sample(5)"
   ]
  },
  {
   "cell_type": "code",
   "execution_count": 122,
   "metadata": {
    "collapsed": true
   },
   "outputs": [],
   "source": [
    "df_projects['description-lemmatized-text'] = df['description-lemmatized'].apply(lambda x: ' '.join(x))\n",
    "df_projects['title-lemmatized-text'] = df['title-lemmatized'].apply(lambda x: ' '.join(x))"
   ]
  },
  {
   "cell_type": "markdown",
   "metadata": {},
   "source": [
    "## Change all - in column names to _ "
   ]
  },
  {
   "cell_type": "code",
   "execution_count": 123,
   "metadata": {
    "collapsed": true
   },
   "outputs": [],
   "source": [
    "df_projects.columns = [x.replace('-', '_') for x in df_projects.columns]"
   ]
  },
  {
   "cell_type": "code",
   "execution_count": 124,
   "metadata": {},
   "outputs": [
    {
     "name": "stdout",
     "output_type": "stream",
     "text": [
      "Index(['Year', 'attachments', 'budget', 'budget_integer', 'category',\n",
      "       'comments', 'description', 'description_lemmatized',\n",
      "       'detailed_localization', 'detailed_location', 'district',\n",
      "       'geometry_string', 'id', 'level', 'osiedla', 'osiedla_list', 'points',\n",
      "       'positions', 'region', 'region_no', 'status', 'threshold', 'title',\n",
      "       'title_lemmatized', 'url', 'votes', 'description_lemmatized_text',\n",
      "       'title_lemmatized_text'],\n",
      "      dtype='object')\n"
     ]
    }
   ],
   "source": [
    "print(df_projects.columns)"
   ]
  },
  {
   "cell_type": "code",
   "execution_count": 125,
   "metadata": {},
   "outputs": [
    {
     "data": {
      "text/plain": [
       "52     projekt zakåada budowä trasa rowerowy za pom...\n",
       "235    droga dla rowerã³w wzdåuå¼ ulica nowodworski ...\n",
       "Name: description_lemmatized_text, dtype: object"
      ]
     },
     "execution_count": 125,
     "metadata": {},
     "output_type": "execute_result"
    }
   ],
   "source": [
    "df_projects.description_lemmatized_text.sample(2)"
   ]
  },
  {
   "cell_type": "markdown",
   "metadata": {},
   "source": [
    "# Preprocess text  "
   ]
  },
  {
   "cell_type": "code",
   "execution_count": 126,
   "metadata": {
    "collapsed": true
   },
   "outputs": [],
   "source": [
    "def remove_punctuation_and_multi_spaces_document(doc, punctuation = '\\'!\"#&$%\\()*+,-./:;<=>?@[\\\\]^_`{|}~'):\n",
    "    \"\"\" Remove all multi spaces and all punctuations from document.\n",
    "\n",
    "    Parameters\n",
    "    ----------\n",
    "    doc: str\n",
    "        Document to remove spaces and punctuation\n",
    "\n",
    "    Returns\n",
    "    ----------\n",
    "    document : str\n",
    "        Cleaned document string.\n",
    "\n",
    "    >>> dp = DocumentPreprocessor()\n",
    "    >>> dp.remove_punctuation_and_multi_spaces_document('  This is test.!@$%     !   %!@%!@  %!@#!@#@!#')\n",
    "    'This is test'\n",
    "    \"\"\"\n",
    "    regex = re.compile('[%s]' % re.escape(punctuation))\n",
    "    doc = regex.sub(' ', doc)\n",
    "    return ' '.join(doc.split())"
   ]
  },
  {
   "cell_type": "code",
   "execution_count": 132,
   "metadata": {
    "collapsed": true
   },
   "outputs": [],
   "source": [
    "def remove_numbers(doc, numbers = '0123456789'):\n",
    "    \"\"\"\n",
    "    Remove numbers from document.\n",
    "\n",
    "    Parameters\n",
    "    ----------\n",
    "    doc : str\n",
    "        Document that will be cleaned, all number will be removed.\n",
    "\n",
    "    Returns\n",
    "    ----------\n",
    "    doc : str\n",
    "        Document without numbers.\n",
    "        \n",
    "    \"\"\"\n",
    "    regex = re.compile('[%s]' % re.escape(numbers))\n",
    "    return regex.sub('', doc)"
   ]
  },
  {
   "cell_type": "code",
   "execution_count": 133,
   "metadata": {
    "collapsed": true
   },
   "outputs": [],
   "source": [
    "def preprocess(docs, stop_words, tags_to_remove=[]):\n",
    "    return remove_punctuation_and_multi_spaces_document(remove_numbers(' '.join([x for x in docs \n",
    "                     if len(x) > 1 and x not in stop_words and x not in tags_to_remove])))"
   ]
  },
  {
   "cell_type": "code",
   "execution_count": 134,
   "metadata": {},
   "outputs": [],
   "source": [
    "with open('../../data/polish.stopwords.txt', 'r') as fo:\n",
    "    stop_words = [x.strip() for x in fo.readlines()]"
   ]
  },
  {
   "cell_type": "code",
   "execution_count": 135,
   "metadata": {},
   "outputs": [
    {
     "data": {
      "text/plain": [
       "['a', 'aby', 'ach', 'acz', 'aczkolwiek', 'aj', 'albo', 'ale', 'alez', 'ależ']"
      ]
     },
     "execution_count": 135,
     "metadata": {},
     "output_type": "execute_result"
    }
   ],
   "source": [
    "stop_words[:10]"
   ]
  },
  {
   "cell_type": "code",
   "execution_count": 136,
   "metadata": {},
   "outputs": [
    {
     "data": {
      "application/vnd.jupyter.widget-view+json": {
       "model_id": "71ed89fa729e411f8c25512c6e95cd10"
      }
     },
     "metadata": {},
     "output_type": "display_data"
    }
   ],
   "source": [
    "df_projects['description_cleaned'] = [preprocess(doc, stop_words) for doc in \n",
    "                                      tqdm(df_projects.description_lemmatized)]"
   ]
  },
  {
   "cell_type": "markdown",
   "metadata": {},
   "source": [
    "## Choose categories "
   ]
  },
  {
   "cell_type": "code",
   "execution_count": 137,
   "metadata": {},
   "outputs": [
    {
     "data": {
      "text/plain": [
       "zieleń/rekreacja        553\n",
       "piesze/rowerowe         502\n",
       "drogowe                 403\n",
       "inne                    377\n",
       "edukacja                180\n",
       "rewitalizacja           138\n",
       "sport                   136\n",
       "droga                   117\n",
       "rekreacja               104\n",
       "place zabaw              92\n",
       "komunikacja zbiorowa     91\n",
       "podwórka                 42\n",
       "rowery                   39\n",
       "zieleń miejska           38\n",
       "plac zabaw               24\n",
       "                          3\n",
       "750 000 zł                1\n",
       "250 zł                    1\n",
       "100 000 zł                1\n",
       "700 zł                    1\n",
       "60 000 zł                 1\n",
       "6 000 zł                  1\n",
       "Name: category, dtype: int64"
      ]
     },
     "execution_count": 137,
     "metadata": {},
     "output_type": "execute_result"
    }
   ],
   "source": [
    "df_projects.category.value_counts()"
   ]
  },
  {
   "cell_type": "code",
   "execution_count": 150,
   "metadata": {
    "collapsed": true
   },
   "outputs": [],
   "source": [
    "categories = ['edukacja', 'drogowe']\n",
    "df_scatter = df_projects[df_projects.category.isin(categories)]"
   ]
  },
  {
   "cell_type": "markdown",
   "metadata": {},
   "source": [
    "## Draw scatter text plot "
   ]
  },
  {
   "cell_type": "code",
   "execution_count": 151,
   "metadata": {
    "collapsed": true
   },
   "outputs": [],
   "source": [
    "def create_scatter_plot(df_scatter, nlp=nlp, f_name='Sentiment-Visualization', category_col='Sentiment_one',\n",
    "                                 text_col='Text_Cleaned_str', category_name='Positive',\n",
    "                                  not_category_name='Negative',):\n",
    "    sentiment_corpus = st.CorpusFromPandas(df_scatter, category_col=category_col, text_col=text_col, nlp=nlp).build()\n",
    "    print(list(sentiment_corpus.get_scaled_f_scores_vs_background().index[:10]))\n",
    "    term_freq_df = sentiment_corpus.get_term_freq_df()\n",
    "    term_freq_df['{} Score'.format(category_name)] = sentiment_corpus.get_scaled_f_scores(category_name)\n",
    "    pprint(list(term_freq_df.sort_values(by='{} Score'.format(category_name), ascending=False).index[:10]))\n",
    "    term_freq_df['{} Score'.format(not_category_name)] = sentiment_corpus.get_scaled_f_scores(not_category_name)\n",
    "    pprint(list(term_freq_df.sort_values(by='{} Score'.format(not_category_name), ascending=False).index[:10]))\n",
    "    html = st.produce_scattertext_explorer(sentiment_corpus,\n",
    "                                           category=category_name,\n",
    "                                           category_name=category_name,\n",
    "                                           not_category_name=not_category_name,\n",
    "                                           width_in_pixels=1000)\n",
    "    open('{}.html'.format(f_name), 'wb').write(html.encode('utf-8'))"
   ]
  },
  {
   "cell_type": "code",
   "execution_count": 152,
   "metadata": {},
   "outputs": [
    {
     "name": "stdout",
     "output_type": "stream",
     "text": [
      "['ulica', 'miejsce', 'dziecko', 'osiedle', 'teren', 'pieszy', 'nawierzchnia', 'boisko', 'parkingowy', 'chodnik']\n",
      "['bieå¼ni',\n",
      " 'sport',\n",
      " 'spä\\x99dzania',\n",
      " 'wielofunkcyjny',\n",
      " 'dal',\n",
      " 'piå\\x82kä\\x99',\n",
      " 'lekkoatletyczny',\n",
      " 'boisko wielofunkcyjny',\n",
      " 'baza sportowy',\n",
      " 'uprawiać']\n",
      "['zostaå\\x82 zweryfikować',\n",
      " 'zå\\x82',\n",
      " 'projekt zostaå\\x82',\n",
      " 'zweryfikować',\n",
      " 'kierowca',\n",
      " 'skrzyå¼owania',\n",
      " 'negatywnie',\n",
      " 'zweryfikować negatywnie',\n",
      " 'tys zå\\x82',\n",
      " 'dokumentacja']\n"
     ]
    }
   ],
   "source": [
    "create_scatter_plot(df_scatter, \n",
    "                    f_name='-'.join(categories), \n",
    "                    category_col='category',\n",
    "                    text_col='description_cleaned',\n",
    "                    category_name=categories[0],\n",
    "                    not_category_name=categories[1],\n",
    "                   )"
   ]
  },
  {
   "cell_type": "code",
   "execution_count": 168,
   "metadata": {},
   "outputs": [],
   "source": [
    "status = {'Wybrany w\\xa0głosowaniu': 'wybrany', \n",
    "          'już realizowany': 'wybrany',  \n",
    "          'Wybrany w głosowaniu': 'wybrany',\n",
    "          'Wybrany w głosowaniu - wycofany': 'wybrany',\n",
    "          'Nie wybrany w głosowaniu': 'niewybrany',\n",
    "          'Nie wybrany w\\xa0głosowaniu': 'niewybrany', \n",
    "          'odrzucony': 'niewybrany',\n",
    "          'Projekt nie bierze udziału w głosowaniu': 'niewybrany',\n",
    "          'nan': None}\n"
   ]
  },
  {
   "cell_type": "code",
   "execution_count": 169,
   "metadata": {},
   "outputs": [
    {
     "data": {
      "text/plain": [
       "{'Nie wybrany w głosowaniu': 'niewybrany',\n",
       " 'Nie wybrany w\\xa0głosowaniu': 'niewybrany',\n",
       " 'Projekt nie bierze udziału w głosowaniu': 'niewybrany',\n",
       " 'Wybrany w głosowaniu': 'wybrany',\n",
       " 'Wybrany w głosowaniu - wycofany': 'wybrany',\n",
       " 'Wybrany w\\xa0głosowaniu': 'wybrany',\n",
       " 'już realizowany': 'wybrany',\n",
       " 'nan': None,\n",
       " 'odrzucony': 'niewybrany'}"
      ]
     },
     "execution_count": 169,
     "metadata": {},
     "output_type": "execute_result"
    }
   ],
   "source": [
    "status"
   ]
  },
  {
   "cell_type": "code",
   "execution_count": 171,
   "metadata": {},
   "outputs": [],
   "source": [
    "df_projects['wybrany'] = df_projects.status.apply(lambda x: status[str(x)])"
   ]
  },
  {
   "cell_type": "code",
   "execution_count": 175,
   "metadata": {},
   "outputs": [],
   "source": [
    "df_projects = df_projects[~(df_projects.wybrany.isnull())]"
   ]
  },
  {
   "cell_type": "code",
   "execution_count": 155,
   "metadata": {},
   "outputs": [
    {
     "name": "stdout",
     "output_type": "stream",
     "text": [
      "['Nie wybrany w\\xa0głosowaniu' 'odrzucony' 'Wybrany w\\xa0głosowaniu'\n",
      " 'już realizowany' 'Nie wybrany w głosowaniu'\n",
      " 'Projekt nie bierze udziału w głosowaniu' 'Wybrany w głosowaniu'\n",
      " 'Wybrany w głosowaniu - wycofany' nan]\n"
     ]
    }
   ],
   "source": [
    "print(df_projects.status.unique())"
   ]
  },
  {
   "cell_type": "code",
   "execution_count": 177,
   "metadata": {},
   "outputs": [
    {
     "name": "stdout",
     "output_type": "stream",
     "text": [
      "['ulica', 'miejsce', 'teren', 'osiedle', 'dziecko', 'zabawa', 'pieszy', 'cych', 'miasto', 'chodnik']\n",
      "['boisko baseballowy',\n",
      " 'znajdujä\\x99 siä\\x99',\n",
      " 'znajdujä\\x99',\n",
      " 'tyrmand',\n",
      " 'smä\\x99tnej',\n",
      " 'ulica smä\\x99tnej',\n",
      " 'ulica tyrmand',\n",
      " 'zieleniä zawä\\x99å¼enia',\n",
      " 'pafawag',\n",
      " 'wrak']\n",
      "['warszawa',\n",
      " 'krajowy',\n",
      " 'odwiedzajä',\n",
      " 'armia',\n",
      " 'armia krajowy',\n",
      " 'dochodzić',\n",
      " 'mieä\\x87',\n",
      " 'wrocå\\x82awski',\n",
      " 'stolica',\n",
      " 'nasyp']\n"
     ]
    }
   ],
   "source": [
    "categories = ['wybrany', 'niewybrany']\n",
    "create_scatter_plot(df_projects, \n",
    "                    f_name='-'.join(categories), \n",
    "                    category_col='wybrany',\n",
    "                    text_col='description_cleaned',\n",
    "                    category_name=categories[0],\n",
    "                    not_category_name=categories[1],\n",
    "                   )"
   ]
  },
  {
   "cell_type": "code",
   "execution_count": null,
   "metadata": {
    "collapsed": true
   },
   "outputs": [],
   "source": []
  }
 ],
 "metadata": {
  "kernelspec": {
   "display_name": "Python 3",
   "language": "python",
   "name": "python3"
  },
  "language_info": {
   "codemirror_mode": {
    "name": "ipython",
    "version": 3
   },
   "file_extension": ".py",
   "mimetype": "text/x-python",
   "name": "python",
   "nbconvert_exporter": "python",
   "pygments_lexer": "ipython3",
   "version": "3.5.2"
  }
 },
 "nbformat": 4,
 "nbformat_minor": 2
}
