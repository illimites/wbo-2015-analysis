{
 "cells": [
  {
   "cell_type": "code",
   "execution_count": 13,
   "metadata": {
    "collapsed": true
   },
   "outputs": [],
   "source": [
    "import pandas as pd\n",
    "import jsonpickle"
   ]
  },
  {
   "cell_type": "code",
   "execution_count": 26,
   "metadata": {
    "collapsed": true
   },
   "outputs": [],
   "source": [
    "dane = pd.read_csv(\"../data/raw/votes/OtwartyWroclaw_Urzad_WBO_glosy.2015.csv\", sep=';', encoding = \"cp1250\")\n",
    "wbo2  = pd.read_csv(\"../data/raw/projects/wbo2015.csv\", sep=';', encoding = \"cp1250\")"
   ]
  },
  {
   "cell_type": "code",
   "execution_count": 50,
   "metadata": {
    "collapsed": false
   },
   "outputs": [],
   "source": [
    "projekty = dane[dane['Prog_2'] > 0].groupby(['Prog_2']).agg(['count'])['Lp']['count'].sort(inplace=False, ascending = False)"
   ]
  },
  {
   "cell_type": "code",
   "execution_count": 51,
   "metadata": {
    "collapsed": false
   },
   "outputs": [],
   "source": [
    "tresh = sum(list(projekty))*.5"
   ]
  },
  {
   "cell_type": "code",
   "execution_count": 16,
   "metadata": {
    "collapsed": false
   },
   "outputs": [],
   "source": [
    "with open(\"/home/niedakh/tumw/wbombers/dane/generated/2015-09-30.15:46-projects.json\", 'r') as fp:\n",
    "    wbo = jsonpickle.decode(fp.read())"
   ]
  },
  {
   "cell_type": "code",
   "execution_count": 46,
   "metadata": {
    "collapsed": false
   },
   "outputs": [
    {
     "ename": "NameError",
     "evalue": "name 'w' is not defined",
     "output_type": "error",
     "traceback": [
      "\u001b[1;31m---------------------------------------------------------------------------\u001b[0m",
      "\u001b[1;31mNameError\u001b[0m                                 Traceback (most recent call last)",
      "\u001b[1;32m<ipython-input-46-68516fd4efdc>\u001b[0m in \u001b[0;36m<module>\u001b[1;34m()\u001b[0m\n\u001b[1;32m----> 1\u001b[1;33m \u001b[0mbudzety\u001b[0m \u001b[1;33m=\u001b[0m \u001b[1;33m{\u001b[0m \u001b[0mk\u001b[0m \u001b[1;33m:\u001b[0m \u001b[0mlist\u001b[0m\u001b[1;33m(\u001b[0m\u001b[0mwbo\u001b[0m\u001b[1;33m[\u001b[0m\u001b[0mwbo\u001b[0m\u001b[1;33m[\u001b[0m\u001b[1;34m'Nr projektu'\u001b[0m\u001b[1;33m]\u001b[0m\u001b[1;33m==\u001b[0m\u001b[0mk\u001b[0m\u001b[1;33m]\u001b[0m\u001b[1;33m[\u001b[0m\u001b[1;34mu'Suma kosztów'\u001b[0m\u001b[1;33m]\u001b[0m\u001b[1;33m)\u001b[0m\u001b[1;33m[\u001b[0m\u001b[1;36m0\u001b[0m\u001b[1;33m]\u001b[0m \u001b[1;32mfor\u001b[0m \u001b[0mk\u001b[0m \u001b[1;32min\u001b[0m \u001b[0mlist\u001b[0m\u001b[1;33m(\u001b[0m\u001b[0mw\u001b[0m\u001b[1;33m)\u001b[0m\u001b[1;33m}\u001b[0m\u001b[1;33m\u001b[0m\u001b[0m\n\u001b[0m",
      "\u001b[1;31mNameError\u001b[0m: name 'w' is not defined"
     ]
    }
   ],
   "source": [
    "budzety = { k : list(wbo[wbo['Nr projektu']==k][u'Suma kosztów'])[0] for k in list(w)}"
   ]
  },
  {
   "cell_type": "code",
   "execution_count": 62,
   "metadata": {
    "collapsed": false
   },
   "outputs": [],
   "source": [
    "full_budzet = 0.0\n",
    "glosy = 0.0\n",
    "do_finansowania = []\n",
    "for k,v in projekty.iteritems():\n",
    "    if glosy > tresh:\n",
    "        break\n",
    "    full_budzet += budzety[k]\n",
    "    glosy += v\n",
    "    do_finansowania.append(k)"
   ]
  },
  {
   "cell_type": "code",
   "execution_count": 63,
   "metadata": {
    "collapsed": false
   },
   "outputs": [
    {
     "data": {
      "text/plain": [
       "10218636.0"
      ]
     },
     "execution_count": 63,
     "metadata": {},
     "output_type": "execute_result"
    }
   ],
   "source": [
    "full_budzet"
   ]
  },
  {
   "cell_type": "code",
   "execution_count": 64,
   "metadata": {
    "collapsed": false
   },
   "outputs": [
    {
     "data": {
      "text/plain": [
       "64214.0"
      ]
     },
     "execution_count": 64,
     "metadata": {},
     "output_type": "execute_result"
    }
   ],
   "source": [
    "glosy"
   ]
  },
  {
   "cell_type": "code",
   "execution_count": 50,
   "metadata": {
    "collapsed": false
   },
   "outputs": [
    {
     "data": {
      "text/plain": [
       "[12921,\n",
       " 11303,\n",
       " 8342,\n",
       " 6961,\n",
       " 6878,\n",
       " 5132,\n",
       " 4582,\n",
       " 4218,\n",
       " 3877,\n",
       " 3296,\n",
       " 2999,\n",
       " 2586,\n",
       " 2372,\n",
       " 2224,\n",
       " 1860,\n",
       " 1643,\n",
       " 1613,\n",
       " 1473,\n",
       " 1376,\n",
       " 1348,\n",
       " 1337,\n",
       " 1329,\n",
       " 1192,\n",
       " 1183,\n",
       " 1113,\n",
       " 1066,\n",
       " 1037,\n",
       " 985,\n",
       " 957,\n",
       " 949,\n",
       " 929,\n",
       " 918,\n",
       " 912,\n",
       " 874,\n",
       " 853,\n",
       " 827,\n",
       " 824,\n",
       " 809,\n",
       " 741,\n",
       " 683,\n",
       " 670,\n",
       " 644,\n",
       " 640,\n",
       " 633,\n",
       " 562,\n",
       " 559,\n",
       " 540,\n",
       " 537,\n",
       " 500,\n",
       " 478,\n",
       " 466,\n",
       " 454,\n",
       " 451,\n",
       " 444,\n",
       " 443,\n",
       " 440,\n",
       " 427,\n",
       " 423,\n",
       " 419,\n",
       " 399,\n",
       " 394,\n",
       " 388,\n",
       " 387,\n",
       " 382,\n",
       " 376,\n",
       " 370,\n",
       " 370,\n",
       " 320,\n",
       " 309,\n",
       " 302,\n",
       " 282,\n",
       " 282,\n",
       " 281,\n",
       " 269,\n",
       " 248,\n",
       " 246,\n",
       " 236,\n",
       " 233,\n",
       " 233,\n",
       " 224,\n",
       " 218,\n",
       " 216,\n",
       " 210,\n",
       " 209,\n",
       " 205,\n",
       " 204,\n",
       " 190,\n",
       " 186,\n",
       " 164,\n",
       " 156,\n",
       " 150,\n",
       " 140,\n",
       " 138,\n",
       " 135,\n",
       " 133,\n",
       " 127,\n",
       " 125,\n",
       " 113,\n",
       " 112,\n",
       " 100,\n",
       " 99,\n",
       " 94,\n",
       " 94,\n",
       " 90,\n",
       " 89,\n",
       " 85,\n",
       " 83,\n",
       " 81,\n",
       " 79,\n",
       " 79,\n",
       " 72,\n",
       " 70,\n",
       " 69,\n",
       " 68,\n",
       " 65,\n",
       " 65,\n",
       " 61,\n",
       " 60,\n",
       " 58,\n",
       " 58,\n",
       " 43,\n",
       " 40,\n",
       " 39,\n",
       " 33,\n",
       " 30,\n",
       " 27,\n",
       " 14,\n",
       " 14]"
      ]
     },
     "execution_count": 50,
     "metadata": {},
     "output_type": "execute_result"
    }
   ],
   "source": [
    "list(projekty)"
   ]
  },
  {
   "cell_type": "code",
   "execution_count": 4,
   "metadata": {
    "collapsed": true
   },
   "outputs": [],
   "source": [
    "won = [481, 546, 578, 59, 77, 494, 22, 376, 240, 733, 274, 674, 671, 153, 362, 491, 259, 150, 519, 286, 478, 353, 662, 62, 616, 570, 136, 364, 487, 119, 303, 319, 172, 27, 507, 770, 183, 236, 360, 280, 786, 4, 410, 289, 99, 428, 682, 211, 220, 560, 719, 249, 462, 41, 618, 340, 681, 744, 68, 116, 469, 122, 32, 787, 803, 401, 191, 316, 398, 67, 715, 255, 409, 596, 752, 127, 749, 699, 705]"
   ]
  },
  {
   "cell_type": "code",
   "execution_count": 19,
   "metadata": {
    "collapsed": false
   },
   "outputs": [],
   "source": [
    "budzety = { k['id']: k['budget'] for k in wbo}"
   ]
  },
  {
   "cell_type": "code",
   "execution_count": 21,
   "metadata": {
    "collapsed": false
   },
   "outputs": [
    {
     "data": {
      "text/plain": [
       "19985000"
      ]
     },
     "execution_count": 21,
     "metadata": {},
     "output_type": "execute_result"
    }
   ],
   "source": [
    "sum([budzety[k] for k in won])"
   ]
  },
  {
   "cell_type": "code",
   "execution_count": 32,
   "metadata": {
    "collapsed": false
   },
   "outputs": [
    {
     "data": {
      "text/plain": [
       "0.2818181818181818"
      ]
     },
     "execution_count": 32,
     "metadata": {},
     "output_type": "execute_result"
    }
   ],
   "source": [
    "len(filter(lambda x: x['id'] in won and x['budget'] <= 150000, wbo))/float(len(filter(lambda x: x['budget'] <= 150000, wbo)))"
   ]
  },
  {
   "cell_type": "code",
   "execution_count": 33,
   "metadata": {
    "collapsed": false
   },
   "outputs": [
    {
     "data": {
      "text/plain": [
       "0.0234375"
      ]
     },
     "execution_count": 33,
     "metadata": {},
     "output_type": "execute_result"
    }
   ],
   "source": [
    "len(filter(lambda x: x['id'] in won and x['budget'] > 500000, wbo))/float(len(filter(lambda x: x['budget'] > 500000, wbo)))"
   ]
  },
  {
   "cell_type": "code",
   "execution_count": 34,
   "metadata": {
    "collapsed": false
   },
   "outputs": [
    {
     "data": {
      "text/plain": [
       "0.07106598984771574"
      ]
     },
     "execution_count": 34,
     "metadata": {},
     "output_type": "execute_result"
    }
   ],
   "source": [
    "len(filter(lambda x: x['id'] in won and x['budget'] <= 500000 and x['budget'] > 150000, wbo))/float(len(filter(lambda x: x['budget'] <= 500000 and x['budget'] > 150000, wbo)))"
   ]
  },
  {
   "cell_type": "code",
   "execution_count": 54,
   "metadata": {
    "collapsed": false
   },
   "outputs": [
    {
     "data": {
      "text/plain": [
       "18199000"
      ]
     },
     "execution_count": 54,
     "metadata": {},
     "output_type": "execute_result"
    }
   ],
   "source": [
    "sum([budzety[k] for k, v in projekty.head(39).iteritems()])"
   ]
  },
  {
   "cell_type": "code",
   "execution_count": 52,
   "metadata": {
    "collapsed": false
   },
   "outputs": [
    {
     "data": {
      "text/plain": [
       "39.203"
      ]
     },
     "execution_count": 52,
     "metadata": {},
     "output_type": "execute_result"
    }
   ],
   "source": [
    "len(projekty)*.199"
   ]
  },
  {
   "cell_type": "code",
   "execution_count": 53,
   "metadata": {
    "collapsed": false
   },
   "outputs": [
    {
     "data": {
      "text/plain": [
       "Prog_2\n",
       "618    14732\n",
       "362    14269\n",
       "409     5802\n",
       "803     5237\n",
       "787     4428\n",
       "183     3157\n",
       "32      2975\n",
       "67      2921\n",
       "364     2483\n",
       "596     2113\n",
       "507     2104\n",
       "560     2089\n",
       "491     1971\n",
       "59      1920\n",
       "810     1801\n",
       "735     1761\n",
       "812     1688\n",
       "109     1679\n",
       "489     1657\n",
       "590     1571\n",
       "508     1547\n",
       "80      1511\n",
       "617     1356\n",
       "245     1330\n",
       "450     1318\n",
       "90      1185\n",
       "17      1140\n",
       "457     1107\n",
       "2       1071\n",
       "195     1039\n",
       "214     1001\n",
       "173      923\n",
       "256      864\n",
       "565      851\n",
       "601      814\n",
       "661      811\n",
       "400      762\n",
       "476      725\n",
       "224      712\n",
       "Name: count, dtype: int64"
      ]
     },
     "execution_count": 53,
     "metadata": {},
     "output_type": "execute_result"
    }
   ],
   "source": [
    "projekty.head(39)"
   ]
  },
  {
   "cell_type": "code",
   "execution_count": 71,
   "metadata": {
    "collapsed": false
   },
   "outputs": [],
   "source": [
    "records = dane[dane['Wiek'] < 21].to_records()"
   ]
  },
  {
   "cell_type": "code",
   "execution_count": 72,
   "metadata": {
    "collapsed": true
   },
   "outputs": [],
   "source": [
    "all_projects = list()\n",
    "for i in [-1,-2,-3]:\n",
    "    all_projects += map(lambda x: x[i], filter (lambda x: x[i] > 0 , records))\n",
    "all_projects = set(all_projects)"
   ]
  },
  {
   "cell_type": "code",
   "execution_count": 73,
   "metadata": {
    "collapsed": true
   },
   "outputs": [],
   "source": [
    "votes_21 = { k : 0 for k in all_projects}"
   ]
  },
  {
   "cell_type": "code",
   "execution_count": 74,
   "metadata": {
    "collapsed": false
   },
   "outputs": [],
   "source": [
    "for k in records:\n",
    "    for i in [-1, -2, -3]:\n",
    "        if k[i] > 0:\n",
    "            votes_21[k[i]]+=1"
   ]
  },
  {
   "cell_type": "code",
   "execution_count": 81,
   "metadata": {
    "collapsed": false
   },
   "outputs": [],
   "source": [
    "pd.Series(votes_21).sort(ascending=False, inplace=False).to_csv('mlodzi.csv')"
   ]
  },
  {
   "cell_type": "code",
   "execution_count": 76,
   "metadata": {
    "collapsed": false
   },
   "outputs": [],
   "source": [
    "records = dane.query('(Wiek > 25) & (Wiek < 34)').to_records()"
   ]
  },
  {
   "cell_type": "code",
   "execution_count": 77,
   "metadata": {
    "collapsed": true
   },
   "outputs": [],
   "source": [
    "all_projects = list()\n",
    "for i in [-1,-2,-3]:\n",
    "    all_projects += map(lambda x: x[i], filter (lambda x: x[i] > 0 , records))\n",
    "all_projects = set(all_projects)"
   ]
  },
  {
   "cell_type": "code",
   "execution_count": 78,
   "metadata": {
    "collapsed": false
   },
   "outputs": [],
   "source": [
    "votes_25plus = { k : 0 for k in all_projects}"
   ]
  },
  {
   "cell_type": "code",
   "execution_count": 79,
   "metadata": {
    "collapsed": true
   },
   "outputs": [],
   "source": [
    "for k in records:\n",
    "    for i in [-1, -2, -3]:\n",
    "        if k[i] > 0:\n",
    "            votes_25plus[k[i]]+=1"
   ]
  },
  {
   "cell_type": "code",
   "execution_count": 82,
   "metadata": {
    "collapsed": false
   },
   "outputs": [],
   "source": [
    "pd.Series(votes_25plus).sort(ascending=False, inplace=False).to_csv('starzy.csv')"
   ]
  },
  {
   "cell_type": "code",
   "execution_count": 97,
   "metadata": {
    "collapsed": false
   },
   "outputs": [],
   "source": [
    "pd.DataFrame([pd.Series(votes_21), pd.Series(votes_25plus)]).fillna(0).T.to_csv('mlodzi-vs-starzy.csv')"
   ]
  },
  {
   "cell_type": "code",
   "execution_count": 84,
   "metadata": {
    "collapsed": true
   },
   "outputs": [],
   "source": [
    "import numpy as np"
   ]
  },
  {
   "cell_type": "code",
   "execution_count": 89,
   "metadata": {
    "collapsed": false
   },
   "outputs": [
    {
     "data": {
      "text/plain": [
       "521.14054103075102"
      ]
     },
     "execution_count": 89,
     "metadata": {},
     "output_type": "execute_result"
    }
   ],
   "source": [
    "np.var(votes_25plus.values())/np.mean(votes_25plus.values())"
   ]
  },
  {
   "cell_type": "code",
   "execution_count": 90,
   "metadata": {
    "collapsed": false
   },
   "outputs": [
    {
     "data": {
      "text/plain": [
       "868.64475867273438"
      ]
     },
     "execution_count": 90,
     "metadata": {},
     "output_type": "execute_result"
    }
   ],
   "source": [
    "np.var(votes_21.values())/np.mean(votes_21.values())"
   ]
  },
  {
   "cell_type": "code",
   "execution_count": 91,
   "metadata": {
    "collapsed": false
   },
   "outputs": [
    {
     "data": {
      "text/plain": [
       "27703"
      ]
     },
     "execution_count": 91,
     "metadata": {},
     "output_type": "execute_result"
    }
   ],
   "source": [
    "sum(votes_21.values())"
   ]
  },
  {
   "cell_type": "code",
   "execution_count": 92,
   "metadata": {
    "collapsed": false
   },
   "outputs": [
    {
     "data": {
      "text/plain": [
       "85761"
      ]
     },
     "execution_count": 92,
     "metadata": {},
     "output_type": "execute_result"
    }
   ],
   "source": [
    "sum(votes_25plus.values())"
   ]
  },
  {
   "cell_type": "code",
   "execution_count": null,
   "metadata": {
    "collapsed": true
   },
   "outputs": [],
   "source": []
  }
 ],
 "metadata": {
  "kernelspec": {
   "display_name": "Python 2",
   "language": "python",
   "name": "python2"
  },
  "language_info": {
   "codemirror_mode": {
    "name": "ipython",
    "version": 2
   },
   "file_extension": ".py",
   "mimetype": "text/x-python",
   "name": "python",
   "nbconvert_exporter": "python",
   "pygments_lexer": "ipython2",
   "version": "2.7.8"
  }
 },
 "nbformat": 4,
 "nbformat_minor": 0
}
