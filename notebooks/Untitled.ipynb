{
 "cells": [
  {
   "cell_type": "code",
   "execution_count": 1,
   "metadata": {
    "collapsed": true
   },
   "outputs": [],
   "source": [
    "import pandas as pd"
   ]
  },
  {
   "cell_type": "code",
   "execution_count": 11,
   "metadata": {
    "collapsed": true
   },
   "outputs": [],
   "source": [
    "def mask(df, f):\n",
    "  return df[f(df)]"
   ]
  },
  {
   "cell_type": "code",
   "execution_count": 2,
   "metadata": {
    "collapsed": true
   },
   "outputs": [],
   "source": [
    "won = [481, 546, 578, 59, 77, 494, 22, 376, 240, 733, 274, 674, 671, 153, 362, 491, 259, 150, 519, 286, 478, 353, 662, 62, 616, 570, 136, 364, 487, 119, 303, 319, 172, 27, 507, 770, 183, 236, 360, 280, 786, 4, 410, 289, 99, 428, 682, 211, 220, 560, 719, 249, 462, 41, 618, 340, 681, 744, 68, 116, 469, 122, 32, 787, 803, 401, 191, 316, 398, 67, 715, 255, 409, 596, 752, 127, 749, 699, 705]"
   ]
  },
  {
   "cell_type": "code",
   "execution_count": 3,
   "metadata": {
    "collapsed": true
   },
   "outputs": [],
   "source": [
    "dane = pd.read_csv(\"../data/raw/votes/OtwartyWroclaw_Urzad_WBO_glosy.2015.csv\", sep=';', encoding = \"cp1250\")"
   ]
  },
  {
   "cell_type": "code",
   "execution_count": 4,
   "metadata": {
    "collapsed": true
   },
   "outputs": [],
   "source": [
    "records = dane.to_records()"
   ]
  },
  {
   "cell_type": "code",
   "execution_count": 22,
   "metadata": {
    "collapsed": false
   },
   "outputs": [],
   "source": [
    "winning_votes = dane[dane.apply(lambda x: x['Prog_1'] in won or x['Prog_2'] in won or x['Prog_3'] in won, axis=1)]"
   ]
  },
  {
   "cell_type": "code",
   "execution_count": 28,
   "metadata": {
    "collapsed": true
   },
   "outputs": [],
   "source": [
    "losing_votes = dane[dane.apply(lambda x: not(x['Prog_1'] in won or x['Prog_2'] in won or x['Prog_3'] in won), axis=1)]"
   ]
  },
  {
   "cell_type": "code",
   "execution_count": 8,
   "metadata": {
    "collapsed": true
   },
   "outputs": [],
   "source": [
    "import matplotlib.pyplot as plt"
   ]
  },
  {
   "cell_type": "code",
   "execution_count": 34,
   "metadata": {
    "collapsed": false
   },
   "outputs": [],
   "source": [
    "wygrane = winning_votes.groupby(['Zrodlo']).agg(['count'])['Lp'].to_dict()"
   ]
  },
  {
   "cell_type": "code",
   "execution_count": 33,
   "metadata": {
    "collapsed": false
   },
   "outputs": [],
   "source": [
    "przegrane = losing_votes.groupby(['Zrodlo']).agg(['count'])['Lp'].to_dict()"
   ]
  },
  {
   "cell_type": "code",
   "execution_count": 32,
   "metadata": {
    "collapsed": false
   },
   "outputs": [],
   "source": [
    "wszystkie = dane.groupby(['Zrodlo']).agg(['count'])['Lp'].to_dict()"
   ]
  },
  {
   "cell_type": "code",
   "execution_count": 36,
   "metadata": {
    "collapsed": false
   },
   "outputs": [
    {
     "data": {
      "text/plain": [
       "({'count': {u'I': 89142, u'P': 27015}}, {'count': {u'I': 38506, u'P': 5513}})"
      ]
     },
     "execution_count": 36,
     "metadata": {},
     "output_type": "execute_result"
    }
   ],
   "source": [
    "wygrane, przegrane"
   ]
  },
  {
   "cell_type": "code",
   "execution_count": 81,
   "metadata": {
    "collapsed": true
   },
   "outputs": [],
   "source": [
    "winning_votes = dane[dane.apply(lambda x: x['Prog_3'] in won , axis=1)]\n",
    "losing_votes = dane[dane.apply(lambda x: not(x['Prog_3'] in won) and x['Prog_3'] > 0, axis=1)]"
   ]
  },
  {
   "cell_type": "code",
   "execution_count": 82,
   "metadata": {
    "collapsed": false
   },
   "outputs": [],
   "source": [
    "a = winning_votes.groupby(['Zrodlo']).agg(['count'])['Lp'].to_dict()"
   ]
  },
  {
   "cell_type": "code",
   "execution_count": 83,
   "metadata": {
    "collapsed": false
   },
   "outputs": [],
   "source": [
    "b = losing_votes.groupby(['Zrodlo']).agg(['count'])['Lp'].to_dict()"
   ]
  },
  {
   "cell_type": "code",
   "execution_count": 84,
   "metadata": {
    "collapsed": false
   },
   "outputs": [
    {
     "data": {
      "text/plain": [
       "(2.1592937524253006, 8.4780487804878053)"
      ]
     },
     "execution_count": 84,
     "metadata": {},
     "output_type": "execute_result"
    }
   ],
   "source": [
    "a['count']['I']/float(a['count']['P']), b['count']['I']/float(b['count']['P'])"
   ]
  },
  {
   "cell_type": "code",
   "execution_count": 85,
   "metadata": {
    "collapsed": false
   },
   "outputs": [
    {
     "data": {
      "text/plain": [
       "({'count': {u'I': 22258, u'P': 10308}}, {'count': {u'I': 85162, u'P': 10045}})"
      ]
     },
     "execution_count": 85,
     "metadata": {},
     "output_type": "execute_result"
    }
   ],
   "source": [
    "a,b "
   ]
  },
  {
   "cell_type": "code",
   "execution_count": 90,
   "metadata": {
    "collapsed": false
   },
   "outputs": [],
   "source": [
    "winning_votes.groupby(['Wiek']).agg(['count'])['Lp'].to_csv(\"wygrane-wiek.csv\")"
   ]
  },
  {
   "cell_type": "code",
   "execution_count": 91,
   "metadata": {
    "collapsed": true
   },
   "outputs": [],
   "source": [
    "losing_votes.groupby(['Wiek']).agg(['count'])['Lp'].to_csv(\"przegrane-wiek.csv\")"
   ]
  },
  {
   "cell_type": "code",
   "execution_count": null,
   "metadata": {
    "collapsed": true
   },
   "outputs": [],
   "source": []
  }
 ],
 "metadata": {
  "kernelspec": {
   "display_name": "Python 2",
   "language": "python",
   "name": "python2"
  },
  "language_info": {
   "codemirror_mode": {
    "name": "ipython",
    "version": 2
   },
   "file_extension": ".py",
   "mimetype": "text/x-python",
   "name": "python",
   "nbconvert_exporter": "python",
   "pygments_lexer": "ipython2",
   "version": "2.7.8"
  }
 },
 "nbformat": 4,
 "nbformat_minor": 0
}
